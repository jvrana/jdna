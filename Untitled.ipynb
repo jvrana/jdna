{
 "cells": [
  {
   "cell_type": "code",
   "execution_count": 1,
   "metadata": {},
   "outputs": [],
   "source": [
    "import textwrap\n"
   ]
  },
  {
   "cell_type": "code",
   "execution_count": 4,
   "metadata": {},
   "outputs": [
    {
     "name": "stdout",
     "output_type": "stream",
     "text": [
      "nnnnnnnnnnnnnnnnnnnnnnnnnnnnnnnnnnnnnnnnnnnnnnnnnnnnnnnnnnnnnnnnnnnnnnnnnnnnnnnnnnnnnnnnnnnnnnnnnnnn\n",
      "nnnnnnnnnnnnnnnnnnnnnnnnnnnnnnnnnnnnnnnnnnnnnnnnnnnnnnnnnnnnnnnnnnnnnnnnnnnnnnnnnnnnnnnnnnnnnnnnnnnn\n",
      "nnnnnnnnnnnnnnnnnnnnnnnnnnnnnnnnnnnnnnnnnnnnnnnnnnnnnnnnnnnnnnnnnnnnnnnnnnnnnnnnnnnnnnnnnnnnnnnnnnnn\n",
      "nnnnnnnnnnnnnnnnnnnnnnnnnnnnnnnnnnnnnnnnnnnnnnnnnnnnnnnnnnnnnnnnnnnnnnnnnnnnnnnnnnnnnnnnnnnnnnnnnnnn\n",
      "nnnnnnnnnnnnnnnnnnnnnnnnnnnnnnnnnnnnnnnnnnnnnnnnnnnnnnnnnnnnnnnnnnnnnnnnnnnnnnnnnnnnnnnnnnnnnnnnnnnn\n",
      "nnnnnnnnnnnnnnnnnnnnnnnnnnnnnnnnnnnnnnnnnnnnnnnnnnnnnnnnnnnnnnnnnnnnnnnnnnnnnnnnnnnnnnnnnnnnnnnnnnnn\n",
      "nnnnnnnnnnnnnnnnnnnnnnnnnnnnnnnnnnnnnnnnnnnnnnnnnnnnnnnnnnnnnnnnnnnnnnnnnnnnnnnnnnnnnnnnnnnnnnnnnnnn\n",
      "nnnnnnnnnnnnnnnnnnnnnnnnnnnnnnnnnnnnnnnnnnnnnnnnnnnnnnnnnnnnnnnnnnnnnnnnnnnnnnnnnnnnnnnnnnnnnnnnnnnn\n",
      "nnnnnnnnnnnnnnnnnnnnnnnnnnnnnnnnnnnnnnnnnnnnnnnnnnnnnnnnnnnnnnnnnnnnnnnnnnnnnnnnnnnnnnnnnnnnnnnnnnnn\n",
      "nnnnnnnnnnnnnnnnnnnnnnnnnnnnnnnnnnnnnnnnnnnnnnnnnnnnnnnnnnnn\n"
     ]
    }
   ],
   "source": [
    "print(textwrap.fill('n'*960, 100))"
   ]
  },
  {
   "cell_type": "code",
   "execution_count": 45,
   "metadata": {},
   "outputs": [
    {
     "name": "stdout",
     "output_type": "stream",
     "text": [
      "\n",
      "0\taaaaaaaaaaaaaaaaaaaaaaaaaaaaaaaaaaaaaaaaaaaaaaaaaaaaaaaaaaaaaaaaaaaaaaaaaaa\n",
      "0\t|||||||||||||||||||||||||||||||||||||||||||||||||||||||||||||||||||||||||||\n",
      "0\tbbbbbbbbbbbbbbbbbbbbbbbbbbbbbbbbbbbbbbbbbbbbbbbbbbbbbbbbbbbbbbbbbbbbbbbbbbb\n",
      "\n",
      "75\taaaaaaaaaaaaaaaaaaaaaaaaaaaaaaaaaaaaaaaaaaaaaaaaaaaaaaaaaaaaaaaaaaaaaaaaaaa\n",
      "75\t|||||||||||||||||||||||||||||||||||||||||||||||||||||||||||||||||||||||||||\n",
      "75\tbbbbbbbbbbbbbbbbbbbbbbbbbbbbbbbbbbbbbbbbbbbbbbbbbbbbbbbbbbbbbbbbbbbbbbbbbbb\n",
      "\n",
      "150\taaaaaaaaaaaaaaaaaaaaaaaaaaaaaaaaaaaaaaaaaaaaaaaaaaaaaaaaaaaaaaaaaaaaaaaaaaa\n",
      "150\t|||||||||||||||||||||||||||||||||||||||||||||||||||||||||||||||||||||||||||\n",
      "150\tbbbbbbbbbbbbbbbbbbbbbbbbbbbbbbbbbbbbbbbbbbbbbbbbbbbbbbbbbbbbbbbbbbbbbbbbbbb\n",
      "\n",
      "225\taaaaaaaaaaaaaaaaaaaaaaaaaaaaaaaaaaaaaaaaaaaaaaaaaaaaaaaaaaaaaaaaaaaaaaaaaaa\n",
      "225\t|||||||||||||||||||||||||||||||||||||||||||||||||||||||||||||||||||||||||||\n",
      "225\tbbbbbbbbbbbbbbbbbbbbbbbbbbbbbbbbbbbbbbbbbbbbbbbbbbbbbbbbbbbbbbbbbbbbbbbbbbb\n",
      "\n",
      "300\taaaaaaaaaaaaaaaaaaaaaaaaaaaaaaaaaaaaaaaaaaaaaaaaaaaaaaaaaaaaaaaaaaaaaaaaaaa\n",
      "300\t|||||||||||||||||||||||||||||||||||||||||||||||||||||||||||||||||||||||||||\n",
      "300\tbbbbbbbbbbbbbbbbbbbbbbbbbbbbbbbbbbbbbbbbbbbbbbbbbbbbbbbbbbbbbbbbbbbbbbbbbbb\n",
      "\n",
      "375\taaaaaaaaaaaaaaaaaaaaaaaaaaaaaaaaaaaaaaaaaaaaaaaaaaaaaaaaaaaaaaaaaaaaaaaaaaa\n",
      "375\t|||||||||||||||||||||||||||||||||||||||||||||||||||||||||||||||||||||||||||\n",
      "375\tbbbbbbbbbbbbbbbbbbbbbbbbbbbbbbbbbbbbbbbbbbbbbbbbbbbbbbbbbbbbbbbbbbbbbbbbbbb\n",
      "\n",
      "450\taaaaaaaaaaaaaaaaaaaaaaaaaaaaaaaaaaaaaaaaaaaaaaaaaaaaaaaaaaaaaaaaaaaaaaaaaaa\n",
      "450\t|||||||||||||||||||||||||||||||||||||||||||||||||||||||||||||||||||||||||||\n",
      "450\tbbbbbbbbbbbbbbbbbbbbbbbbbbbbbbbbbbbbbbbbbbbbbbbbbbbbbbbbbbbbbbbbbbbbbbbbbbb\n",
      "\n",
      "525\taaaaaaaaaaaaaaaaaaaaaaaaaaaaaaaaaaaaaaaaaaaaaaaaaaaaaaaaaaaaaaaaaaaaaaaaaaa\n",
      "525\t|||||||||||||||||||||||||||||||||||||||||||||||||||||||||||||||||||||||||||\n",
      "525\tbbbbbbbbbbbbbbbbbbbbbbbbbbbbbbbbbbbbbbbbbbbbbbbbbbbbbbbbbbbbbbbbbbbbbbbbbbb\n",
      "\n",
      "600\taaaaaaaaaaaaaaaaaaaaaaaaaaaaaaaaaaaaaaaaaaaaaaaaaaaaaaaaaaaaaaaaaaaaaaaaaaa\n",
      "600\t|||||||||||||||||||||||||||||||||||||||||||||||||||||||||||||||||||||||||||\n",
      "600\tbbbbbbbbbbbbbbbbbbbbbbbbbbbbbbbbbbbbbbbbbbbbbbbbbbbbbbbbbbbbbbbbbbbbbbbbbbb\n",
      "\n",
      "675\taaaaaaaaaaaaaaaaaaaaaaaaaaaaaaaaaaaaaaaaaaaaaaaaaaaaaaaaaaaaaaaaaaaaaaaaaaa\n",
      "675\t|||||||||||||||||||||||||||||||||||||||||||||||||||||||||||||||||||||||||||\n",
      "675\tbbbbbbbbbbbbbbbbbbbbbbbbbbbbbbbbbbbbbbbbbbbbbbbbbbbbbbbbbbbbbbbbbbbbbbbbbbb\n",
      "\n",
      "750\taaaaaaaaaaaaaaaaaaaaaaaaaaaaaaaaaaaaaaaaaaaaaaaaaaaaaaaaaaaaaaaaaaaaaaaaaaa\n",
      "750\t|||||||||||||||||||||||||||||||||||||||||||||||||||||||||||||||||||||||||||\n",
      "750\tbbbbbbbbbbbbbbbbbbbbbbbbbbbbbbbbbbbbbbbbbbbbbbbbbbbbbbbbbbbbbbbbbbbbbbbbbbb\n",
      "\n",
      "825\taaaaaaaaaaaaaaaaaaaaaaaaaaaaaaaaaaaaaaaaaaaaaaaaaaaaaaaaaaaaaaaaaaaaaaaaaaa\n",
      "825\t|||||||||||||||||||||||||||||||||||||||||||||||||||||||||||||||||||||||||||\n",
      "825\tbbbbbbbbbbbbbbbbbbbbbbbbbbbbbbbbbbbbbbbbbbbbbbbbbbbbbbbbbbbbbbbbbbbbbbbbbbb\n",
      "\n",
      "900\taaaaaaaaaaaaaaaaaaaaaaaaaaaaaaaaaaaaaaaaaaaaaa\n",
      "900\t||||||||||||||||||||||||||||||||||||||||||||||\n",
      "900\tbbbbbbbbbbbbbbbbbbbbbbbbbbbbbbbbbbbbbbbbbbbbbb\n"
     ]
    }
   ],
   "source": [
    "from enum import Flag\n",
    "\n",
    "class NumberStrategy(Flag):\n",
    "    NUM = \"line_number\"\n",
    "    LENGTH = \"line_length\"\n",
    "\n",
    "def number_lines(lines, indent='\\t', numbering_strategy=NumberStrategy.LENGTH, index_pattern=\"{}\"):\n",
    "    index=0\n",
    "    indices = []\n",
    "    for l in lines:\n",
    "        indices.append(index)\n",
    "        if numbering_strategy=NumberStrategy.LENGTH:\n",
    "            index += len(l.strip())\n",
    "        elif numbering_strategy=NumberStrategy.NUM:\n",
    "            index += 1\n",
    "\n",
    "    new_lines = []\n",
    "    for index, line in zip(indices, lines):\n",
    "        new_lines.append(\"{}{}{}\".format(index_pattern.format(index), indent, line))\n",
    "\n",
    "    return new_lines\n",
    "\n",
    "def formatter(s, width=75, spacer=None):\n",
    "    rows = s.split('\\n')\n",
    "    lines = []\n",
    "    for row in rows:\n",
    "        line = number_lines(textwrap.wrap(row, width=width))\n",
    "        lines.append(line)\n",
    "        \n",
    "    interleafed = functools.reduce(lambda x, y: x + y, zip(*lines))\n",
    "    with_spacer = []\n",
    "    for i, l in enumerate(interleafed):\n",
    "        if spacer is not None and i % len(lines) == 0:\n",
    "            with_spacer.append(spacer)\n",
    "        with_spacer.append(l)\n",
    "    return '\\n'.join(with_spacer)\n",
    "    \n",
    "n = 946\n",
    "a = 'a'*n\n",
    "b = 'b'*n\n",
    "c = '|'*n\n",
    "\n",
    "seq = '\\n'.join([a,c,b])\n",
    "\n",
    "print(formatter(seq, spacer=''))"
   ]
  },
  {
   "cell_type": "code",
   "execution_count": 13,
   "metadata": {},
   "outputs": [],
   "source": [
    "from textwrap import TextWrapper\n",
    "wrapper = TextWrapper()\n",
    "wrapper.initial_indent = \"\\t\""
   ]
  },
  {
   "cell_type": "code",
   "execution_count": 36,
   "metadata": {},
   "outputs": [
    {
     "data": {
      "text/plain": [
       "(1, 2, 3, 2, 3, 4)"
      ]
     },
     "execution_count": 36,
     "metadata": {},
     "output_type": "execute_result"
    }
   ],
   "source": [
    "import functools \n",
    "\n",
    "functools.reduce(lambda x, y: x + y, zip([1,2], [2,3], [3,4]))"
   ]
  },
  {
   "cell_type": "code",
   "execution_count": 11,
   "metadata": {},
   "outputs": [
    {
     "name": "stdout",
     "output_type": "stream",
     "text": [
      "Assemble Golden Gate Plasmid (JV Optimized)\n",
      "Justin\n",
      "Assemble NEB Golden Gate\n",
      "Cloning\n"
     ]
    }
   ],
   "source": [
    "from mysession import nursery\n",
    "from pydent.browser import Browser\n",
    "\n",
    "browser = Browser(nurserydef chunks(iterable, n):\n",
    "    chunk = None\n",
    "    for i, x in enumerate(iterable):\n",
    "        if i % n == 0:\n",
    "            if chunk is not None:\n",
    "                yield chunk\n",
    "            chunk = []\n",
    "        chunk.append(x))\n",
    "\n",
    "browser.set_model(\"OperationType\")\n",
    "\n",
    "ots = browser.search(\"golden\")\n",
    "for ot in ots:\n",
    "    print(ot.name)\n",
    "    print(ot.category)"
   ]
  },
  {
   "cell_type": "code",
   "execution_count": 47,
   "metadata": {},
   "outputs": [],
   "source": [
    "from mysession import production"
   ]
  },
  {
   "cell_type": "code",
   "execution_count": 1,
   "metadata": {},
   "outputs": [],
   "source": [
    "from pydent import AqSession"
   ]
  },
  {
   "cell_type": "code",
   "execution_count": 2,
   "metadata": {},
   "outputs": [],
   "source": [
    "session = AqSession(\"vrana\", \"Mountain5\", \"http://52.27.43.242\")"
   ]
  },
  {
   "cell_type": "code",
   "execution_count": 19,
   "metadata": {},
   "outputs": [
    {
     "ename": "TypeError",
     "evalue": "must be str, not int",
     "output_type": "error",
     "traceback": [
      "\u001b[0;31m---------------------------------------------------------------------------\u001b[0m",
      "\u001b[0;31mTypeError\u001b[0m                                 Traceback (most recent call last)",
      "\u001b[0;32m<ipython-input-19-99a824069f42>\u001b[0m in \u001b[0;36m<module>\u001b[0;34m()\u001b[0m\n\u001b[1;32m      2\u001b[0m \u001b[0;34m\u001b[0m\u001b[0m\n\u001b[1;32m      3\u001b[0m \u001b[0mlines\u001b[0m \u001b[0;34m=\u001b[0m \u001b[0;34m[\u001b[0m\u001b[0;34m'a'\u001b[0m\u001b[0;34m,\u001b[0m \u001b[0;34m'bb'\u001b[0m\u001b[0;34m,\u001b[0m \u001b[0;34m'cccc'\u001b[0m\u001b[0;34m]\u001b[0m\u001b[0;34m\u001b[0m\u001b[0m\n\u001b[0;32m----> 4\u001b[0;31m \u001b[0mlist\u001b[0m\u001b[0;34m(\u001b[0m\u001b[0mitertools\u001b[0m\u001b[0;34m.\u001b[0m\u001b[0maccumulate\u001b[0m\u001b[0;34m(\u001b[0m\u001b[0mlines\u001b[0m\u001b[0;34m,\u001b[0m \u001b[0;32mlambda\u001b[0m \u001b[0my\u001b[0m\u001b[0;34m,\u001b[0m\u001b[0mx\u001b[0m\u001b[0;34m:\u001b[0m \u001b[0mx\u001b[0m \u001b[0;34m+\u001b[0m \u001b[0mlen\u001b[0m\u001b[0;34m(\u001b[0m\u001b[0my\u001b[0m\u001b[0;34m)\u001b[0m\u001b[0;34m)\u001b[0m\u001b[0;34m)\u001b[0m\u001b[0;34m\u001b[0m\u001b[0m\n\u001b[0m",
      "\u001b[0;32m<ipython-input-19-99a824069f42>\u001b[0m in \u001b[0;36m<lambda>\u001b[0;34m(y, x)\u001b[0m\n\u001b[1;32m      2\u001b[0m \u001b[0;34m\u001b[0m\u001b[0m\n\u001b[1;32m      3\u001b[0m \u001b[0mlines\u001b[0m \u001b[0;34m=\u001b[0m \u001b[0;34m[\u001b[0m\u001b[0;34m'a'\u001b[0m\u001b[0;34m,\u001b[0m \u001b[0;34m'bb'\u001b[0m\u001b[0;34m,\u001b[0m \u001b[0;34m'cccc'\u001b[0m\u001b[0;34m]\u001b[0m\u001b[0;34m\u001b[0m\u001b[0m\n\u001b[0;32m----> 4\u001b[0;31m \u001b[0mlist\u001b[0m\u001b[0;34m(\u001b[0m\u001b[0mitertools\u001b[0m\u001b[0;34m.\u001b[0m\u001b[0maccumulate\u001b[0m\u001b[0;34m(\u001b[0m\u001b[0mlines\u001b[0m\u001b[0;34m,\u001b[0m \u001b[0;32mlambda\u001b[0m \u001b[0my\u001b[0m\u001b[0;34m,\u001b[0m\u001b[0mx\u001b[0m\u001b[0;34m:\u001b[0m \u001b[0mx\u001b[0m \u001b[0;34m+\u001b[0m \u001b[0mlen\u001b[0m\u001b[0;34m(\u001b[0m\u001b[0my\u001b[0m\u001b[0;34m)\u001b[0m\u001b[0;34m)\u001b[0m\u001b[0;34m)\u001b[0m\u001b[0;34m\u001b[0m\u001b[0m\n\u001b[0m",
      "\u001b[0;31mTypeError\u001b[0m: must be str, not int"
     ]
    }
   ],
   "source": [
    "import itertools \n",
    "\n",
    "lines = ['a', 'bb', 'cccc']\n",
    "list(itertools.accumulate(lines, lambda y,x: x + len(y)))"
   ]
  },
  {
   "cell_type": "code",
   "execution_count": 47,
   "metadata": {},
   "outputs": [],
   "source": [
    "import functools\n",
    "\n",
    "def chunks(iterable, n):\n",
    "    chunk = None\n",
    "    for i, x in enumerate(iterable):\n",
    "        if i % n == 0:\n",
    "            if chunk is not None:\n",
    "                yield chunk\n",
    "            chunk = []\n",
    "        chunk.append(x)\n",
    "    yield chunk\n",
    "\n",
    "def to_lines(string, width):\n",
    "    \"\"\"Converts a string to lines of length <= width\"\"\"\n",
    "    lines = []\n",
    "    for i in range(0, len(string), width):\n",
    "        lines.append(string[i:i+width])\n",
    "    return lines\n",
    "    \n",
    "def rows_to_chunks(rows, width=75):\n",
    "    if not rows:\n",
    "        return []\n",
    "    lengths = set([len(r) for r in rows])\n",
    "    if len(lengths) > 1:\n",
    "        raise Exception(\"Cannot format rows that have different lengths\")\n",
    "\n",
    "    lines = []\n",
    "    for row in rows:\n",
    "        line = to_lines(row, width=width)\n",
    "        lines.append(line)\n",
    "#     print(lines)\n",
    "    interleafed = functools.reduce(lambda x, y: x + y, zip(*lines))\n",
    "    return list(chunks(interleafed, len(rows)))"
   ]
  },
  {
   "cell_type": "code",
   "execution_count": 51,
   "metadata": {},
   "outputs": [
    {
     "ename": "AttributeError",
     "evalue": "'list' object has no attribute 'min'",
     "output_type": "error",
     "traceback": [
      "\u001b[0;31m---------------------------------------------------------------------------\u001b[0m",
      "\u001b[0;31mAttributeError\u001b[0m                            Traceback (most recent call last)",
      "\u001b[0;32m<ipython-input-51-45d2ce5a51a5>\u001b[0m in \u001b[0;36m<module>\u001b[0;34m()\u001b[0m\n\u001b[0;32m----> 1\u001b[0;31m \u001b[0;34m[\u001b[0m\u001b[0;36m3\u001b[0m\u001b[0;34m,\u001b[0m\u001b[0;36m4\u001b[0m\u001b[0;34m,\u001b[0m\u001b[0;36m5\u001b[0m\u001b[0;34m,\u001b[0m\u001b[0;36m6\u001b[0m\u001b[0;34m]\u001b[0m\u001b[0;34m.\u001b[0m\u001b[0mmin\u001b[0m\u001b[0;34m(\u001b[0m\u001b[0;34m)\u001b[0m\u001b[0;34m\u001b[0m\u001b[0m\n\u001b[0m",
      "\u001b[0;31mAttributeError\u001b[0m: 'list' object has no attribute 'min'"
     ]
    }
   ],
   "source": [
    "class SequenceView(object):\n",
    "    \n",
    "    def __init__(sequence_string):\n",
    "        self.sequence = sequence_string\n",
    "        self.width = \n",
    "        \n",
    "    self.__json_update(sample, include={\"field_values\": \"sample\", \"sample_type\": []})"
   ]
  },
  {
   "cell_type": "code",
   "execution_count": 71,
   "metadata": {},
   "outputs": [],
   "source": [
    "\n",
    "    \n",
    "def update_sample(sample):\n",
    "    def __json_update(model, **params):\n",
    "        \"\"\"This update method is fairly dangerous. Be careful!\"\"\"\n",
    "        data = {\"model\": {\"model\": model.__class__.__name__}}\n",
    "        data.update(model.dump(**params))\n",
    "        return model.session.utils.aqhttp.post('json/save', json_data=data)\n",
    "    for fv in sample.field_values:\n",
    "        __json_update(fv)\n",
    "    __json_update(sample, include={\"field_values\": \"sample\", \"sample_type\": []})\n",
    "\n",
    "sample = nursery.Sample.find(5007)\n",
    "sample.update_properties({\"QC_length\": 234})\n",
    "update_sample(sample)"
   ]
  },
  {
   "cell_type": "code",
   "execution_count": 72,
   "metadata": {},
   "outputs": [
    {
     "data": {
      "text/plain": [
       "{'Comp_cell_limit': 'Yes',\n",
       " 'Haploids': [],\n",
       " 'Has this strain passed QC?': None,\n",
       " 'Integrant': <pydent.models.Sample at 0x110e6a3a8>,\n",
       " 'Integrated Marker(s)': 'TRP, HIS',\n",
       " 'Mating Type': 'YKL42',\n",
       " 'Parent': <pydent.models.Sample at 0x110e14c60>,\n",
       " 'Plasmid': None,\n",
       " 'Plasmid Marker(s)': 'Kan',\n",
       " 'QC Primer1': <pydent.models.Sample at 0x110e629d8>,\n",
       " 'QC Primer2': <pydent.models.Sample at 0x110e14438>,\n",
       " 'QC_length': '234'}"
      ]
     },
     "execution_count": 72,
     "metadata": {},
     "output_type": "execute_result"
    }
   ],
   "source": [
    "sample = nursery.Sample.find(5007)\n",
    "sample.properties"
   ]
  },
  {
   "cell_type": "code",
   "execution_count": null,
   "metadata": {},
   "outputs": [],
   "source": []
  }
 ],
 "metadata": {
  "kernelspec": {
   "display_name": "Python 3",
   "language": "python",
   "name": "python3"
  },
  "language_info": {
   "codemirror_mode": {
    "name": "ipython",
    "version": 3
   },
   "file_extension": ".py",
   "mimetype": "text/x-python",
   "name": "python",
   "nbconvert_exporter": "python",
   "pygments_lexer": "ipython3",
   "version": "3.6.4"
  }
 },
 "nbformat": 4,
 "nbformat_minor": 2
}
