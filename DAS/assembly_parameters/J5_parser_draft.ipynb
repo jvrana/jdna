{
 "cells": [
  {
   "cell_type": "code",
   "execution_count": 23,
   "metadata": {
    "ExecuteTime": {
     "end_time": "2017-02-19T17:47:55.586540",
     "start_time": "2017-02-19T17:47:55.578718"
    },
    "collapsed": false
   },
   "outputs": [
    {
     "name": "stdout",
     "output_type": "stream",
     "text": [
      "\"SLIC/Gibson/CPEC j5 v3.0.5 assembly 2/19/2017\"\n",
      "\n",
      "\"Assembly Parameters:\"\n",
      "\n",
      "\"Warning: the master plasmids list file is empty. Using mas as the initials and 5 digits to number (e.g. pmas00001)...\"\n",
      "\n",
      "\"Non-degenerate Part IDs and Sources\"\n",
      "\n",
      "\"Target Part 0 left primer design: Warning: mispriming (seq: CGATAAGCTCTAGAGGG; bps: 7176..7192; strand: 1; query seq: CGATAAGCTCTAGAGGG; query bps: 10..26 (of 26); Tm: 52.206). \"\n",
      "\n",
      "\"Target Part Ordering/Selection/Strategy\"\n",
      "\n",
      "\n",
      "\n",
      "\"Incompatibilities between Assembly Pieces:\"\n",
      "\n",
      "\"Suggested Assembly Piece Contigs For Hierarchical Assembly:\"\n",
      "\n",
      "\"Oligo Synthesis\"\n",
      "\n",
      "\"Warning: oligo mas00006_(2684)_reverse contains more than the maximum (4 bp) of poly-Gs. This may complicate DNA oligo synthesis.\"\n",
      "\n",
      "\"PCR Reactions\",,,\"Forward Oligo\",,\"Reverse Oligo\"\n",
      "\n",
      "\"Assembly Pieces (SLIC/Gibson/CPEC)\"\n",
      "\n",
      "\"Warning: junction following assembly piece 3 (44 bp) is longer than the 36 bp Primer3 Tm calculation limit. Its full length Tm may be closer to 70.596\"\n",
      "\n",
      "\"Final Assembled Vector\"\n",
      "\n",
      "\n",
      "\n"
     ]
    }
   ],
   "source": [
    "from glob import glob\n",
    "import os\n",
    "import csv\n",
    "import re\n",
    "\n",
    "results_file = None\n",
    "with open('results 3/pmas00001.csv', 'rU') as handle:\n",
    "    results_file = handle.read()\n",
    "# rows = [x.split(',') for x in results_file.split('\\n')]\n",
    "# rows\n",
    "sections = results_file.split('\\n\\n')\n",
    "for section in sections:\n",
    "    rows = section.split('\\n')\n",
    "    title = rows[0]\n",
    "    print title\n",
    "    print"
   ]
  },
  {
   "cell_type": "code",
   "execution_count": 25,
   "metadata": {
    "ExecuteTime": {
     "end_time": "2017-02-19T18:13:15.914666",
     "start_time": "2017-02-19T18:13:15.911988"
    },
    "collapsed": true
   },
   "outputs": [],
   "source": [
    "from benchlingapi import BenchlingAPI"
   ]
  },
  {
   "cell_type": "code",
   "execution_count": null,
   "metadata": {
    "collapsed": true
   },
   "outputs": [],
   "source": [
    "BenchlingAPI()"
   ]
  }
 ],
 "metadata": {
  "kernelspec": {
   "display_name": "Python 2",
   "language": "python",
   "name": "python2"
  },
  "language_info": {
   "codemirror_mode": {
    "name": "ipython",
    "version": 2
   },
   "file_extension": ".py",
   "mimetype": "text/x-python",
   "name": "python",
   "nbconvert_exporter": "python",
   "pygments_lexer": "ipython2",
   "version": "2.7.12"
  },
  "toc": {
   "toc_cell": false,
   "toc_number_sections": true,
   "toc_threshold": 6,
   "toc_window_display": false
  }
 },
 "nbformat": 4,
 "nbformat_minor": 0
}
