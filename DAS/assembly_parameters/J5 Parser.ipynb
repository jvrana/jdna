{
 "cells": [
  {
   "cell_type": "code",
   "execution_count": 19,
   "metadata": {
    "ExecuteTime": {
     "end_time": "2017-02-20T19:48:18.684512",
     "start_time": "2017-02-20T19:48:18.672211"
    },
    "collapsed": false
   },
   "outputs": [
    {
     "name": "stdout",
     "output_type": "stream",
     "text": [
      "\"SLIC/Gibson/CPEC j5 v3.0.5 assembly 2/20/2017\"\n",
      "\"Assembly Parameters:\"\n",
      "\"Non-degenerate Part IDs and Sources\"\n",
      "\"Target Part 1 primer design: Warning: Primer3 could not find a reasonable set of primers. Left primer explanation: considered 19; high tm 10; high hairpin stability 9; ok 0. Primer Pair explanation: considered 4; tm diff too large 4; ok 0. Ignoring: max-tm hairpin-stability max-diff-tm...\"\n",
      "\"Target Part Ordering/Selection/Strategy\"\n",
      "\"Incompatibilities between Assembly Pieces:\"\n",
      "\"Suggested Assembly Piece Contigs For Hierarchical Assembly:\"\n",
      "\"Oligo Synthesis\"\n",
      "\"PCR Reactions\",,,\"Forward Oligo\",,\"Reverse Oligo\"\n",
      "\"Assembly Pieces (SLIC/Gibson/CPEC)\"\n",
      "\"Final Assembled Vector\"\n"
     ]
    }
   ],
   "source": [
    "import os\n",
    "\n",
    "results_file = 'results/pmas00001.csv'\n",
    "results_raw = None\n",
    "with open(results_file, 'rU') as handle:\n",
    "    results_raw = handle.read()\n",
    "\n",
    "section_titles = [\"SLIC/Gibson\", \"Assembly Parameters\", \"Non-degenerate Part IDs and Sources\", \"Target Part\", \\\n",
    " \"Incompatibilities\", \"Suggested Assembly\", \\\n",
    " \"Oligo Synthesis\", \"PCR Reaction\", \"Assembly Pieces\", \"Final Assembled Vector\"]\n",
    "sections = results_raw.split('\\n\\n')\n",
    "for s in sections:\n",
    "    rows = s.split('\\n')\n",
    "    for st in section_titles:\n",
    "        if rows[0].startswith(\"\\\"{}\".format(st)):\n",
    "            print rows[0]\n",
    "    \n",
    "    \n",
    "# \"Target Part Ordering/Selection/Strategy\"\n",
    "# \"Incompatibilities between Assembly Pieces:\"\n",
    "# \"Suggested Assembly Piece Contigs For Hierarchical Assembly:\"\n",
    "# \"Oligo Synthesis\"\n",
    "# \"PCR Reactions\",,,\"Forward Oligo\",,\"Reverse Oligo\"\n",
    "\n"
   ]
  },
  {
   "cell_type": "code",
   "execution_count": 11,
   "metadata": {
    "ExecuteTime": {
     "end_time": "2017-02-20T19:39:45.868502",
     "start_time": "2017-02-20T19:39:45.839254"
    },
    "collapsed": false
   },
   "outputs": [
    {
     "data": {
      "text/html": [
       "<div>\n",
       "<table border=\"1\" class=\"dataframe\">\n",
       "  <thead>\n",
       "    <tr style=\"text-align: right;\">\n",
       "      <th></th>\n",
       "      <th>g</th>\n",
       "      <th>d</th>\n",
       "    </tr>\n",
       "  </thead>\n",
       "  <tbody>\n",
       "    <tr>\n",
       "      <th>0</th>\n",
       "      <td>g</td>\n",
       "      <td>d</td>\n",
       "    </tr>\n",
       "  </tbody>\n",
       "</table>\n",
       "</div>"
      ],
      "text/plain": [
       "   g  d\n",
       "0  g  d"
      ]
     },
     "execution_count": 11,
     "metadata": {},
     "output_type": "execute_result"
    }
   ],
   "source": [
    "import pandas as pd\n",
    "\n",
    "pd.DataFrame(['g','d'], ['g','d']).T"
   ]
  },
  {
   "cell_type": "code",
   "execution_count": null,
   "metadata": {
    "collapsed": true
   },
   "outputs": [],
   "source": []
  }
 ],
 "metadata": {
  "kernelspec": {
   "display_name": "Python 2",
   "language": "python",
   "name": "python2"
  },
  "language_info": {
   "codemirror_mode": {
    "name": "ipython",
    "version": 2
   },
   "file_extension": ".py",
   "mimetype": "text/x-python",
   "name": "python",
   "nbconvert_exporter": "python",
   "pygments_lexer": "ipython2",
   "version": "2.7.12"
  }
 },
 "nbformat": 4,
 "nbformat_minor": 0
}
